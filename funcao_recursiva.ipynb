{
  "nbformat": 4,
  "nbformat_minor": 0,
  "metadata": {
    "colab": {
      "provenance": [],
      "authorship_tag": "ABX9TyN/TTpk/OxppvrQ2vw0eseY",
      "include_colab_link": true
    },
    "kernelspec": {
      "name": "python3",
      "display_name": "Python 3"
    },
    "language_info": {
      "name": "python"
    }
  },
  "cells": [
    {
      "cell_type": "markdown",
      "metadata": {
        "id": "view-in-github",
        "colab_type": "text"
      },
      "source": [
        "<a href=\"https://colab.research.google.com/github/Rodolfo12055/meu_programa.c/blob/main/funcao_recursiva.ipynb\" target=\"_parent\"><img src=\"https://colab.research.google.com/assets/colab-badge.svg\" alt=\"Open In Colab\"/></a>"
      ]
    },
    {
      "cell_type": "code",
      "source": [
        "#funcao recursiva contagem regressiva\n",
        "def regressiva(x):\n",
        "  print(x)\n",
        "  if x >0:\n",
        "    regressiva(x - 1)\n",
        "  else:\n",
        "    print('Acabou')\n",
        "\n",
        "regressiva(10)\n"
      ],
      "metadata": {
        "colab": {
          "base_uri": "https://localhost:8080/"
        },
        "id": "smNopHhxUi95",
        "outputId": "18b850dd-3ca1-4c69-d64f-643d795c9fa7"
      },
      "execution_count": 2,
      "outputs": [
        {
          "output_type": "stream",
          "name": "stdout",
          "text": [
            "10\n",
            "9\n",
            "8\n",
            "7\n",
            "6\n",
            "5\n",
            "4\n",
            "3\n",
            "2\n",
            "1\n",
            "0\n",
            "Acabou\n"
          ]
        }
      ]
    },
    {
      "cell_type": "code",
      "source": [
        "for y in range(10,-1,-1):\n",
        "  print(y)\n",
        "print('Acabou')"
      ],
      "metadata": {
        "colab": {
          "base_uri": "https://localhost:8080/"
        },
        "id": "XuV1y1B9VQcD",
        "outputId": "86620d63-26af-4e3a-f14e-34d6b04c8b48"
      },
      "execution_count": 5,
      "outputs": [
        {
          "output_type": "stream",
          "name": "stdout",
          "text": [
            "10\n",
            "9\n",
            "8\n",
            "7\n",
            "6\n",
            "5\n",
            "4\n",
            "3\n",
            "2\n",
            "1\n",
            "0\n",
            "Acabou\n"
          ]
        }
      ]
    },
    {
      "cell_type": "code",
      "source": [
        "#funcao recursiva fatorial\n",
        "def fatorial(n):\n",
        "  if n == 0 or n == 1:\n",
        "    return 1\n",
        "  else:\n",
        "    return n * fatorial(n - 1)\n",
        "\n",
        "vfat = fatorial(5)\n",
        "print(f\"O resultado da recursiva : {vfat}\")"
      ],
      "metadata": {
        "colab": {
          "base_uri": "https://localhost:8080/"
        },
        "id": "6cPFVn9UW6Ma",
        "outputId": "650554c1-3b60-4fc9-b342-454157535c06"
      },
      "execution_count": 7,
      "outputs": [
        {
          "output_type": "stream",
          "name": "stdout",
          "text": [
            "O resultado da recursiva : 120\n"
          ]
        }
      ]
    },
    {
      "cell_type": "code",
      "source": [
        "#funcao fatorial nao recursiva\n",
        "def fatorial(n):\n",
        "  fat = 1\n",
        "  if n == 0 or n == 1:\n",
        "    return fat\n",
        "  else:\n",
        "    for x in range(2,n+1):\n",
        "      fat = fat * x\n",
        "    return fat\n",
        "\n",
        "vfat = fatorial(5)\n",
        "print(f\"O resultado da nao recursiva : {vfat}\")"
      ],
      "metadata": {
        "colab": {
          "base_uri": "https://localhost:8080/"
        },
        "id": "grc52td5X-en",
        "outputId": "6eb32b9a-6092-4569-e3ab-40d839273e29"
      },
      "execution_count": 8,
      "outputs": [
        {
          "output_type": "stream",
          "name": "stdout",
          "text": [
            "O resultado da nao recursiva : 120\n"
          ]
        }
      ]
    }
  ]
}